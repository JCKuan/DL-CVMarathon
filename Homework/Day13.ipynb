{
 "cells": [
  {
   "cell_type": "markdown",
   "metadata": {},
   "source": [
    "# Day 13\n",
    "## Pooling and Flattening\n",
    "\n",
    "- Goal:\n",
    "    1. Understand how pooling and flattening works."
   ]
  },
  {
   "cell_type": "code",
   "execution_count": 1,
   "metadata": {},
   "outputs": [
    {
     "name": "stderr",
     "output_type": "stream",
     "text": [
      "Using TensorFlow backend.\n"
     ]
    },
    {
     "name": "stdout",
     "output_type": "stream",
     "text": [
      "Model: \"CNN\"\n",
      "_________________________________________________________________\n",
      "Layer (type)                 Output Shape              Param #   \n",
      "=================================================================\n",
      "layer1 (Conv2D)              (None, 32, 32, 32)        896       \n",
      "_________________________________________________________________\n",
      "max_pooling2d_1 (MaxPooling2 (None, 16, 16, 32)        0         \n",
      "_________________________________________________________________\n",
      "layer2 (Conv2D)              (None, 16, 16, 64)        18496     \n",
      "_________________________________________________________________\n",
      "max_pooling2d_2 (MaxPooling2 (None, 8, 8, 64)          0         \n",
      "_________________________________________________________________\n",
      "layer3 (Conv2D)              (None, 8, 8, 128)         73856     \n",
      "_________________________________________________________________\n",
      "max_pooling2d_3 (MaxPooling2 (None, 4, 4, 128)         0         \n",
      "_________________________________________________________________\n",
      "layer4 (Conv2D)              (None, 4, 4, 10)          11530     \n",
      "_________________________________________________________________\n",
      "global_average_pooling2d_1 ( (None, 10)                0         \n",
      "_________________________________________________________________\n",
      "FC (Dense)                   (None, 28)                308       \n",
      "=================================================================\n",
      "Total params: 105,086\n",
      "Trainable params: 105,086\n",
      "Non-trainable params: 0\n",
      "_________________________________________________________________\n"
     ]
    }
   ],
   "source": [
    "from keras.models import Sequential\n",
    "from keras.layers import Conv2D, MaxPooling2D, Flatten, GlobalAveragePooling2D, Dense          # Convolution2D = Conv2D\n",
    "\n",
    "model = Sequential(name = \"CNN\")\n",
    "model.add(Conv2D(32, 3, padding = 'same', activation = 'relu', name = \"layer1\", input_shape = (32, 32, 3)))\n",
    "model.add(MaxPooling2D(2, strides = (2, 2)))\n",
    "\n",
    "model.add(Conv2D(64, 3, padding = 'same', activation = 'relu', name = \"layer2\"))\n",
    "model.add(MaxPooling2D(2, strides = (2, 2)))\n",
    "\n",
    "model.add(Conv2D(128, 3, padding = 'same', activation = 'relu', name = \"layer3\"))\n",
    "model.add(MaxPooling2D(2, strides = (2, 2)))\n",
    "\n",
    "model.add(Conv2D(10, 3, padding = 'same', activation = 'relu', name = \"layer4\"))\n",
    "\n",
    "# model.add(Flatten())\n",
    "model.add(GlobalAveragePooling2D())\n",
    "model.add(Dense(28, activation = 'relu', name = \"FC\"))\n",
    "\n",
    "model.summary()"
   ]
  }
 ],
 "metadata": {
  "kernelspec": {
   "display_name": "Python 3",
   "language": "python",
   "name": "python3"
  },
  "language_info": {
   "codemirror_mode": {
    "name": "ipython",
    "version": 3
   },
   "file_extension": ".py",
   "mimetype": "text/x-python",
   "name": "python",
   "nbconvert_exporter": "python",
   "pygments_lexer": "ipython3",
   "version": "3.7.4"
  }
 },
 "nbformat": 4,
 "nbformat_minor": 4
}
