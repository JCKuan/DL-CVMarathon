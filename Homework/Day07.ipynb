{
 "cells": [
  {
   "cell_type": "markdown",
   "metadata": {},
   "source": [
    "# Day 07\n",
    "## Perspective Transformation\n",
    "\n",
    "- Goal:\n",
    "    1. Apply a perspective transformation to an image."
   ]
  },
  {
   "cell_type": "code",
   "execution_count": 1,
   "metadata": {},
   "outputs": [],
   "source": [
    "import cv2\n",
    "import numpy as np\n",
    "\n",
    "img = cv2.imread('Lenna_(test_image).png', cv2.IMREAD_COLOR)"
   ]
  },
  {
   "cell_type": "code",
   "execution_count": 2,
   "metadata": {},
   "outputs": [],
   "source": [
    "rows, cols = img.shape[:2]\n",
    "pts1 = np.array([[60, 40], [420, 40], [420, 510], [60, 510]], dtype = np.float32)\n",
    "pts2 = np.array([[0, 80],  [cols, 120],  [cols, 430],   [0, 470]], dtype = np.float32)\n",
    "\n",
    "M = cv2.getPerspectiveTransform(pts1, pts2)\n",
    "dst = cv2.warpPerspective(img, M, (cols, rows))\n",
    "\n",
    "# mark the points\n",
    "img_copy = img.copy()\n",
    "for idx, pts in enumerate(pts1):\n",
    "    pts = tuple(map(int, pts))\n",
    "    cv2.circle(img_copy, pts, 3, (0, 255, 0), -1)\n",
    "    cv2.putText(img_copy, str(idx), (pts[0] + 5, pts[1] + 5), 0, 1, (0, 255, 0), 2)\n",
    "\n",
    "for idx, pts in enumerate(pts2):\n",
    "    pts = tuple(map(int, pts))\n",
    "    cv2.circle(dst, pts, 3, (0, 255, 0), -1)\n",
    "    cv2.putText(dst, str(idx), (pts[0] + 5, pts[1] + 5), 0, 1, (0, 255, 0), 2)\n",
    "\n",
    "img_perspective = np.hstack((img_copy, dst))\n",
    "cv2.imshow('perspective transformation', img_perspective)\n",
    "cv2.waitKey(0)\n",
    "cv2.destroyAllWindows()"
   ]
  }
 ],
 "metadata": {
  "kernelspec": {
   "display_name": "Python 3",
   "language": "python",
   "name": "python3"
  },
  "language_info": {
   "codemirror_mode": {
    "name": "ipython",
    "version": 3
   },
   "file_extension": ".py",
   "mimetype": "text/x-python",
   "name": "python",
   "nbconvert_exporter": "python",
   "pygments_lexer": "ipython3",
   "version": "3.7.4"
  }
 },
 "nbformat": 4,
 "nbformat_minor": 4
}
