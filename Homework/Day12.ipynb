{
 "cells": [
  {
   "cell_type": "markdown",
   "metadata": {},
   "source": [
    "# Day 12\n",
    "## Padding and Stride\n",
    "\n",
    "- Goal:\n",
    "    1. Understand how padding and stride affects the output shape."
   ]
  },
  {
   "cell_type": "code",
   "execution_count": 1,
   "metadata": {},
   "outputs": [
    {
     "name": "stderr",
     "output_type": "stream",
     "text": [
      "Using TensorFlow backend.\n"
     ]
    },
    {
     "name": "stdout",
     "output_type": "stream",
     "text": [
      "Model: \"model_1\"\n",
      "_________________________________________________________________\n",
      "Layer (type)                 Output Shape              Param #   \n",
      "=================================================================\n",
      "input (InputLayer)           (None, 13, 13, 1)         0         \n",
      "_________________________________________________________________\n",
      "layer1 (Conv2D)              (None, 13, 13, 32)        1184      \n",
      "=================================================================\n",
      "Total params: 1,184\n",
      "Trainable params: 1,184\n",
      "Non-trainable params: 0\n",
      "_________________________________________________________________\n",
      "Model: \"model_2\"\n",
      "_________________________________________________________________\n",
      "Layer (type)                 Output Shape              Param #   \n",
      "=================================================================\n",
      "input (InputLayer)           (None, 13, 13, 1)         0         \n",
      "_________________________________________________________________\n",
      "layer1 (Conv2D)              (None, 7, 7, 32)          1184      \n",
      "=================================================================\n",
      "Total params: 1,184\n",
      "Trainable params: 1,184\n",
      "Non-trainable params: 0\n",
      "_________________________________________________________________\n",
      "Model: \"model_3\"\n",
      "_________________________________________________________________\n",
      "Layer (type)                 Output Shape              Param #   \n",
      "=================================================================\n",
      "input (InputLayer)           (None, 13, 13, 1)         0         \n",
      "_________________________________________________________________\n",
      "layer1 (Conv2D)              (None, 8, 8, 32)          1184      \n",
      "=================================================================\n",
      "Total params: 1,184\n",
      "Trainable params: 1,184\n",
      "Non-trainable params: 0\n",
      "_________________________________________________________________\n",
      "Model: \"model_4\"\n",
      "_________________________________________________________________\n",
      "Layer (type)                 Output Shape              Param #   \n",
      "=================================================================\n",
      "input (InputLayer)           (None, 13, 13, 1)         0         \n",
      "_________________________________________________________________\n",
      "layer1 (Conv2D)              (None, 4, 4, 32)          1184      \n",
      "=================================================================\n",
      "Total params: 1,184\n",
      "Trainable params: 1,184\n",
      "Non-trainable params: 0\n",
      "_________________________________________________________________\n"
     ]
    }
   ],
   "source": [
    "from keras.models import Model, Sequential\n",
    "from keras.layers import Convolution2D, Input\n",
    "\n",
    "inputs = Input(shape = (13, 13, 1), name = \"input\")\n",
    "x = Convolution2D(32, 6, strides = (1, 1), padding = 'same', activation = 'relu', name = \"layer1\")(inputs)\n",
    "model = Model(inputs = inputs, outputs = x)\n",
    "model.summary()\n",
    "\n",
    "x = Convolution2D(32, 6, strides = (2, 2), padding = 'same', activation = 'relu', name = \"layer1\")(inputs)\n",
    "model = Model(inputs = inputs, outputs = x)\n",
    "model.summary()\n",
    "\n",
    "x = Convolution2D(32, 6, strides = (1, 1), padding = 'valid', activation = 'relu', name = \"layer1\")(inputs)\n",
    "model = Model(inputs = inputs, outputs = x)\n",
    "model.summary()\n",
    "\n",
    "x = Convolution2D(32, 6, strides = (2, 2), padding = 'valid', activation = 'relu', name = \"layer1\")(inputs)\n",
    "model = Model(inputs = inputs, outputs = x)\n",
    "model.summary()"
   ]
  }
 ],
 "metadata": {
  "kernelspec": {
   "display_name": "Python 3",
   "language": "python",
   "name": "python3"
  },
  "language_info": {
   "codemirror_mode": {
    "name": "ipython",
    "version": 3
   },
   "file_extension": ".py",
   "mimetype": "text/x-python",
   "name": "python",
   "nbconvert_exporter": "python",
   "pygments_lexer": "ipython3",
   "version": "3.7.4"
  }
 },
 "nbformat": 4,
 "nbformat_minor": 4
}
