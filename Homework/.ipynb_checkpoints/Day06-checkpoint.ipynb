{
 "cells": [
  {
   "cell_type": "markdown",
   "metadata": {},
   "source": [
    "# Day 06\n",
    "## Affine Transformation (Cont'd)\n",
    "\n",
    "- Goal:\n",
    "    1. Preprocess the image according to the instructions.\n",
    "    2. Preprocess the image by constructing a transformation matrix with three pair of points.\n",
    "\n",
    "### (a)"
   ]
  },
  {
   "cell_type": "code",
   "execution_count": 1,
   "metadata": {},
   "outputs": [],
   "source": [
    "import cv2\n",
    "import numpy as np\n",
    "\n",
    "img = cv2.imread('Lenna_(test_image).png', cv2.IMREAD_COLOR)"
   ]
  },
  {
   "cell_type": "code",
   "execution_count": 2,
   "metadata": {},
   "outputs": [
    {
     "name": "stdout",
     "output_type": "stream",
     "text": [
      "linear map\n",
      " [[  0.35355339   0.35355339  74.98066402]\n",
      " [ -0.35355339   0.35355339 256.        ]]\n",
      "translation\n",
      " [[  1.   0. 100.]\n",
      " [  0.   1. -50.]]\n"
     ]
    }
   ],
   "source": [
    "rows, cols = img.shape[:2]\n",
    "\n",
    "# rotate 45 degrees counter-clockwise && scale the image by a factor of 0.5\n",
    "M_linear = cv2.getRotationMatrix2D((cols//2, rows//2), 45, 0.5)\n",
    "print(\"linear map\\n\", M_linear)\n",
    "dst_linear = cv2.warpAffine(img, M_linear, (cols, rows))\n",
    "\n",
    "# translate the image by (100, -50)\n",
    "M_translate = np.array([[1, 0, 100],\n",
    "                        [0, 1, -50]], dtype = np.float32)\n",
    "print(\"translation\\n\", M_translate)\n",
    "dst = cv2.warpAffine(dst_linear, M_translate, (cols, rows))\n",
    "\n",
    "img_preprocessed = np.hstack((img, dst_linear, dst))\n",
    "cv2.imshow('affine transformation', img_preprocessed)\n",
    "cv2.waitKey(0)\n",
    "cv2.destroyAllWindows()"
   ]
  },
  {
   "cell_type": "markdown",
   "metadata": {},
   "source": [
    "### (b)"
   ]
  },
  {
   "cell_type": "code",
   "execution_count": 3,
   "metadata": {},
   "outputs": [],
   "source": [
    "pts1 = np.array([[50,50], [300,100], [200,300]], dtype = np.float32)\n",
    "pts2 = np.array([[80,80], [330,150], [300,300]], dtype = np.float32)\n",
    "\n",
    "M = cv2.getAffineTransform(pts1, pts2)\n",
    "dst = cv2.warpAffine(img, M, (cols,rows))\n",
    "\n",
    "# mark the points\n",
    "img_copy = img.copy()\n",
    "for idx, pts in enumerate(pts1):\n",
    "    pts = tuple(map(int, pts))\n",
    "    cv2.circle(img_copy, pts, 3, (0, 255, 0), -1)\n",
    "    cv2.putText(img_copy, str(idx), (pts[0] + 5, pts[1] + 5), 0, 1, (0, 255, 0), 2)\n",
    "\n",
    "for idx, pts in enumerate(pts2):\n",
    "    pts = tuple(map(int, pts))\n",
    "    cv2.circle(dst, pts, 3, (0, 255, 0), -1)\n",
    "    cv2.putText(dst, str(idx), (pts[0] + 5, pts[1] + 5), 0, 1, (0, 255, 0), 2)\n",
    "\n",
    "img_preprocessed = np.hstack((img_copy, dst))\n",
    "cv2.imshow('affine transformation', img_preprocessed)\n",
    "cv2.waitKey(0)\n",
    "cv2.destroyAllWindows()"
   ]
  }
 ],
 "metadata": {
  "kernelspec": {
   "display_name": "Python 3",
   "language": "python",
   "name": "python3"
  },
  "language_info": {
   "codemirror_mode": {
    "name": "ipython",
    "version": 3
   },
   "file_extension": ".py",
   "mimetype": "text/x-python",
   "name": "python",
   "nbconvert_exporter": "python",
   "pygments_lexer": "ipython3",
   "version": "3.7.4"
  }
 },
 "nbformat": 4,
 "nbformat_minor": 4
}
