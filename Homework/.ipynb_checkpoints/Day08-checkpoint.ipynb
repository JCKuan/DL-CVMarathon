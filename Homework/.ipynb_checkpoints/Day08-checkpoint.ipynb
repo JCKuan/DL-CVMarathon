{
 "cells": [
  {
   "cell_type": "markdown",
   "metadata": {},
   "source": [
    "# Day 08\n",
    "## Image Filtering\n",
    "\n",
    "- Goal:\n",
    "    1. Apply the Gaussian blur to the image.\n",
    "    2. Apply the Sobel filter to detect edges of the image.\n",
    "\n",
    "### (a)"
   ]
  },
  {
   "cell_type": "code",
   "execution_count": 1,
   "metadata": {},
   "outputs": [],
   "source": [
    "import cv2\n",
    "import numpy as np\n",
    "\n",
    "img = cv2.imread('Lenna_(test_image).png', cv2.IMREAD_COLOR)"
   ]
  },
  {
   "cell_type": "code",
   "execution_count": 2,
   "metadata": {},
   "outputs": [],
   "source": [
    "blur = img.copy()\n",
    "\n",
    "for i in range (3):\n",
    "    blur = cv2.GaussianBlur(blur, (3, 3), 0)\n",
    "    \n",
    "img_blur = np.hstack((img, blur))\n",
    "cv2.imshow('Gaussian blur', img_blur)\n",
    "cv2.waitKey(0)\n",
    "cv2.destroyAllWindows()"
   ]
  },
  {
   "cell_type": "markdown",
   "metadata": {},
   "source": [
    "### (b)"
   ]
  },
  {
   "cell_type": "code",
   "execution_count": 3,
   "metadata": {},
   "outputs": [],
   "source": [
    "img_grey = cv2.cvtColor(img, cv2.COLOR_BGR2GRAY)\n",
    "\n",
    "Sobel_x = cv2.Sobel(img_grey, cv2.CV_16S, dx = 1, dy = 0, ksize = 3)          # conversion(uint8 -> int16) because of negative numbers\n",
    "Sobel_x = cv2.convertScaleAbs(Sobel_x)\n",
    "Sobel_y = cv2.Sobel(img_grey, cv2.CV_16S, dx = 0, dy = 1, ksize = 3)\n",
    "Sobel_y = cv2.convertScaleAbs(Sobel_y)\n",
    "\n",
    "Sobel = cv2.addWeighted(Sobel_x, 0.5, Sobel_y, 0.5, 0)\n",
    "# 'addWeighted' returns the sum of two arrays (same size and channel number)\n",
    "# 'merge'       returns a multichannel array with several single-channel ones (See Day03.)\n",
    "\n",
    "img_Sobel = np.hstack((img_grey, Sobel))\n",
    "cv2.imshow('Sobel filter', img_Sobel)\n",
    "cv2.waitKey(0)\n",
    "cv2.destroyAllWindows()"
   ]
  },
  {
   "cell_type": "code",
   "execution_count": 4,
   "metadata": {},
   "outputs": [],
   "source": [
    "# Wrong way\n",
    "Sobel_x_uint8 = cv2.Sobel(img_grey, -1, dx = 1, dy = 0, ksize = 3)          # results in truncated derivatives\n",
    "Sobel_y_uint8 = cv2.Sobel(img_grey, -1, dx = 0, dy = 1, ksize = 3)\n",
    "\n",
    "Sobel_uint8 = cv2.addWeighted(Sobel_x_uint8, 0.5, Sobel_y_uint8, 0.5, 0)\n",
    "\n",
    "img_Sobel_wrong = np.hstack((Sobel_uint8, Sobel))\n",
    "cv2.imshow('Sobel filter (wrong way)', img_Sobel_wrong)\n",
    "cv2.waitKey(0)\n",
    "cv2.destroyAllWindows()"
   ]
  },
  {
   "cell_type": "code",
   "execution_count": 5,
   "metadata": {},
   "outputs": [],
   "source": [
    "# with higher order derivatives\n",
    "# Since differentiation amplifies noise, smoothing is suggested prior to applying 2nd order derivative edge detection (DoG, LoG).\n",
    "Sobel_xx = cv2.Sobel(img_grey, cv2.CV_16S, dx = 2, dy = 0, ksize = 3)\n",
    "Sobel_xx = cv2.convertScaleAbs(Sobel_xx)\n",
    "Sobel_yy = cv2.Sobel(img_grey, cv2.CV_16S, dx = 0, dy = 2, ksize = 3)\n",
    "Sobel_yy = cv2.convertScaleAbs(Sobel_yy)\n",
    "\n",
    "Sobel_2 = cv2.addWeighted(Sobel_xx, 0.5, Sobel_yy, 0.5, 0)\n",
    "\n",
    "img_Sobel_2 = np.hstack((Sobel_2, Sobel))\n",
    "cv2.imshow('Sobel filter (order = 2)', img_Sobel_2)\n",
    "cv2.waitKey(0)\n",
    "cv2.destroyAllWindows()"
   ]
  }
 ],
 "metadata": {
  "kernelspec": {
   "display_name": "Python 3",
   "language": "python",
   "name": "python3"
  },
  "language_info": {
   "codemirror_mode": {
    "name": "ipython",
    "version": 3
   },
   "file_extension": ".py",
   "mimetype": "text/x-python",
   "name": "python",
   "nbconvert_exporter": "python",
   "pygments_lexer": "ipython3",
   "version": "3.7.4"
  }
 },
 "nbformat": 4,
 "nbformat_minor": 4
}
