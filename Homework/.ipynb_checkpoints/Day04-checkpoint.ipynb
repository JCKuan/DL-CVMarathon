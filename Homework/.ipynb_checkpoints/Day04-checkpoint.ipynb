{
 "cells": [
  {
   "cell_type": "markdown",
   "metadata": {},
   "source": [
    "# Day 04\n",
    "## Affine Transformation\n",
    "\n",
    "- Goal:\n",
    "    1. Reflect, scale, and translate an image.\n",
    "\n",
    "### (a)"
   ]
  },
  {
   "cell_type": "code",
   "execution_count": 1,
   "metadata": {},
   "outputs": [],
   "source": [
    "import cv2\n",
    "import numpy as np\n",
    "\n",
    "img = cv2.imread('Lenna_(test_image).png', cv2.IMREAD_COLOR)"
   ]
  },
  {
   "cell_type": "code",
   "execution_count": 2,
   "metadata": {},
   "outputs": [],
   "source": [
    "xreflect = img[::-1]          # all items in the array, reversed\n",
    "img_xreflect = np.vstack((img, xreflect))\n",
    "yreflect = img_xreflect[:, ::-1]\n",
    "img_reflect = np.hstack((img_xreflect, yreflect))\n",
    "\n",
    "cv2.imshow('reflection', img_reflect)\n",
    "cv2.waitKey(0)\n",
    "cv2.destroyAllWindows()"
   ]
  },
  {
   "cell_type": "markdown",
   "metadata": {},
   "source": [
    "### (b)"
   ]
  },
  {
   "cell_type": "code",
   "execution_count": 3,
   "metadata": {},
   "outputs": [
    {
     "name": "stdout",
     "output_type": "stream",
     "text": [
      "INTER_NEAREST: 0.001992940902709961\n",
      "INTER_LINEAR: 0.00499725341796875\n",
      "INTER_CUBIC: 0.005989789962768555\n"
     ]
    }
   ],
   "source": [
    "import time\n",
    "\n",
    "# shrink: INTER_AREA\n",
    "shrink = cv2.resize(img, None, fx = 0.5, fy = 0.5)\n",
    "\n",
    "# enlarge: INTER_CUBIC or INTER_LINEAR\n",
    "start = time.time()\n",
    "enlarge = cv2.resize(shrink, None, fx = 3, fy = 3, interpolation = cv2.INTER_NEAREST)\n",
    "print('INTER_NEAREST: {}'.format(time.time() - start))\n",
    "\n",
    "start = time.time()\n",
    "enlarge = cv2.resize(shrink, None, fx = 3, fy = 3, interpolation = cv2.INTER_LINEAR)\n",
    "print('INTER_LINEAR: {}'.format(time.time() - start))\n",
    "\n",
    "start = time.time()\n",
    "enlarge = cv2.resize(shrink, None, fx = 3, fy = 3, interpolation = cv2.INTER_CUBIC)\n",
    "print('INTER_CUBIC: {}'.format(time.time() - start))\n",
    "\n",
    "cv2.imshow('scaling_shrink', shrink)\n",
    "cv2.imshow('scaling_enlarge', enlarge)\n",
    "cv2.waitKey(0)\n",
    "cv2.destroyAllWindows()"
   ]
  },
  {
   "cell_type": "markdown",
   "metadata": {},
   "source": [
    "### (c)"
   ]
  },
  {
   "cell_type": "code",
   "execution_count": 4,
   "metadata": {},
   "outputs": [],
   "source": [
    "# 2 x 3 transformation matrix\n",
    "M = np.array([[1, 0, 100],\n",
    "              [0, 1, 50]], dtype = np.float32)\n",
    "translate = cv2.warpAffine(img, M, (img.shape[1], img.shape[0]))\n",
    "img_translate = np.hstack((img, translate))\n",
    "\n",
    "cv2.imshow('translation', img_translate)\n",
    "cv2.waitKey(0)\n",
    "cv2.destroyAllWindows()"
   ]
  }
 ],
 "metadata": {
  "kernelspec": {
   "display_name": "Python 3",
   "language": "python",
   "name": "python3"
  },
  "language_info": {
   "codemirror_mode": {
    "name": "ipython",
    "version": 3
   },
   "file_extension": ".py",
   "mimetype": "text/x-python",
   "name": "python",
   "nbconvert_exporter": "python",
   "pygments_lexer": "ipython3",
   "version": "3.7.4"
  }
 },
 "nbformat": 4,
 "nbformat_minor": 4
}
