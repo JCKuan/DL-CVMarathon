{
 "cells": [
  {
   "cell_type": "markdown",
   "metadata": {},
   "source": [
    "# Day 05\n",
    "## Recap\n",
    "\n",
    "- Goal:\n",
    "    1. Preprocess the image according to the instructions."
   ]
  },
  {
   "cell_type": "code",
   "execution_count": 1,
   "metadata": {},
   "outputs": [],
   "source": [
    "import cv2\n",
    "import numpy as np\n",
    "\n",
    "img = cv2.imread('Lenna_(test_image).png', cv2.IMREAD_COLOR)"
   ]
  },
  {
   "cell_type": "code",
   "execution_count": 2,
   "metadata": {},
   "outputs": [
    {
     "name": "stdout",
     "output_type": "stream",
     "text": [
      "original location: [60, 40], [420, 510]\n",
      "location after preprocessing: (46, 20), (226, 255)\n"
     ]
    }
   ],
   "source": [
    "p1 = [60, 40]\n",
    "p2 = [420, 510]\n",
    "\n",
    "# adjust the contrast by histogram equalization\n",
    "b, g, r = cv2.split(img)\n",
    "b_eq = cv2.equalizeHist(b)\n",
    "g_eq = cv2.equalizeHist(g)\n",
    "r_eq = cv2.equalizeHist(r)\n",
    "img_pro = cv2.merge((b_eq, g_eq, r_eq))\n",
    "\n",
    "# reflect the image across the y-axis\n",
    "img_pro = img_pro[:, ::-1]\n",
    "\n",
    "p1_pro = p1.copy()\n",
    "p2_pro = p2.copy()\n",
    "p1_pro[0] = 512 - p2[0]\n",
    "p2_pro[0] = 512 - p1[0]\n",
    "\n",
    "# shrink the image\n",
    "fx = 0.5\n",
    "fy = 0.5\n",
    "img_pro = cv2.resize(img_pro, None, fx = fx, fy = fy)\n",
    "\n",
    "loc = np.array((p1_pro, p2_pro), dtype = np.float32)\n",
    "M = np.array([[fx, 0, 0],\n",
    "              [0, fy, 0]], dtype = np.float32)\n",
    "loc_pro = M.T @ loc\n",
    "loc_pro = loc_pro.astype('uint8')\n",
    "p1_pro = tuple(loc_pro[0])\n",
    "p2_pro = tuple(loc_pro[1])\n",
    "\n",
    "# mark the object\n",
    "cv2.rectangle(img_pro, p1_pro, p2_pro, (0, 0, 255), 2)\n",
    "\n",
    "print('original location: {}, {}'.format(p1, p2))\n",
    "print('location after preprocessing: {}, {}'.format(p1_pro, p2_pro))\n",
    "\n",
    "cv2.imshow('preprocessed image', img_pro)\n",
    "cv2.waitKey(0)\n",
    "cv2.destroyAllWindows()"
   ]
  }
 ],
 "metadata": {
  "kernelspec": {
   "display_name": "Python 3",
   "language": "python",
   "name": "python3"
  },
  "language_info": {
   "codemirror_mode": {
    "name": "ipython",
    "version": 3
   },
   "file_extension": ".py",
   "mimetype": "text/x-python",
   "name": "python",
   "nbconvert_exporter": "python",
   "pygments_lexer": "ipython3",
   "version": "3.7.4"
  }
 },
 "nbformat": 4,
 "nbformat_minor": 4
}
