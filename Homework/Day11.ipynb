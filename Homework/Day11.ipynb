{
 "cells": [
  {
   "cell_type": "markdown",
   "metadata": {},
   "source": [
    "# Day 11\n",
    "## Fully Connected Neural Network vs. CNN\n",
    "\n",
    "- Goal:\n",
    "    1. Compare the number of parameters when the same number of neurons(weights in the filters) are used."
   ]
  },
  {
   "cell_type": "code",
   "execution_count": 1,
   "metadata": {},
   "outputs": [
    {
     "name": "stdout",
     "output_type": "stream",
     "text": [
      "Model: \"Convolutional\"\n",
      "_________________________________________________________________\n",
      "Layer (type)                 Output Shape              Param #   \n",
      "=================================================================\n",
      "layer1 (Conv2D)              (None, 26, 26, 32)        320       \n",
      "=================================================================\n",
      "Total params: 320\n",
      "Trainable params: 320\n",
      "Non-trainable params: 0\n",
      "_________________________________________________________________\n",
      "None\n"
     ]
    }
   ],
   "source": [
    "import tensorflow as tf\n",
    "from tensorflow import keras\n",
    "from tensorflow.keras import layers\n",
    "\n",
    "# input: 28x28 RGB images; batch size: 4\n",
    "input_shape = (4, 28, 28, 1)\n",
    "x = tf.random.normal(input_shape)\n",
    "\n",
    "# A Sequential model is appropriate for\n",
    "# a plain stack of layers where each layer has exactly one input tensor and one output tensor\n",
    "model = keras.Sequential(name = \"Convolutional\")\n",
    "# 32 3x3 filters\n",
    "model.add(layers.Convolution2D(32, 3, activation = 'relu', name = \"layer1\", input_shape = input_shape[1:]))\n",
    "\n",
    "# output: 32 26x26 feature maps (volume: 26x26x32)\n",
    "print(model.summary())"
   ]
  },
  {
   "cell_type": "code",
   "execution_count": 2,
   "metadata": {},
   "outputs": [
    {
     "name": "stdout",
     "output_type": "stream",
     "text": [
      "Model: \"Fully Connected\"\n",
      "_________________________________________________________________\n",
      "Layer (type)                 Output Shape              Param #   \n",
      "=================================================================\n",
      "layer1 (Dense)               (None, 288)               226080    \n",
      "=================================================================\n",
      "Total params: 226,080\n",
      "Trainable params: 226,080\n",
      "Non-trainable params: 0\n",
      "_________________________________________________________________\n",
      "None\n"
     ]
    }
   ],
   "source": [
    "model_fc = keras.Sequential(name = \"Fully Connected\")\n",
    "model_fc.add(keras.Input(shape = (784,)))\n",
    "model_fc.add(keras.layers.Dense(288, activation = 'relu', name = \"layer1\"))\n",
    "\n",
    "print(model_fc.summary())"
   ]
  }
 ],
 "metadata": {
  "kernelspec": {
   "display_name": "Python 3",
   "language": "python",
   "name": "python3"
  },
  "language_info": {
   "codemirror_mode": {
    "name": "ipython",
    "version": 3
   },
   "file_extension": ".py",
   "mimetype": "text/x-python",
   "name": "python",
   "nbconvert_exporter": "python",
   "pygments_lexer": "ipython3",
   "version": "3.7.4"
  }
 },
 "nbformat": 4,
 "nbformat_minor": 4
}
