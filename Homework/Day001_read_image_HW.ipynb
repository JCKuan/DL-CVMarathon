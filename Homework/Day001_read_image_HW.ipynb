{
 "cells": [
  {
   "cell_type": "markdown",
   "metadata": {},
   "source": [
    "# 作業\n",
    "\n",
    "思考一下我們前面有提到圖片是矩陣，但維度可能會不一樣\n",
    "例如灰階圖只有兩個維度，RGB 彩圖則有 3 個維度\n",
    "\n",
    "假如今天我們把 RGB 3 個維度拆開來看會有甚麼不同的效果呢？"
   ]
  },
  {
   "cell_type": "code",
   "execution_count": 2,
   "metadata": {},
   "outputs": [
    {
     "name": "stdout",
     "output_type": "stream",
     "text": [
      "Collecting opencv-python\n",
      "  Downloading https://files.pythonhosted.org/packages/85/17/bad54f67bbe27d88ba520c3f59315e95b4e254cd28767c20accacb0597d8/opencv_python-4.2.0.34-cp37-cp37m-win_amd64.whl (33.0MB)\n",
      "Requirement already satisfied: numpy>=1.14.5 in c:\\anaconda3\\lib\\site-packages (from opencv-python) (1.16.5)\n",
      "Installing collected packages: opencv-python\n",
      "Successfully installed opencv-python-4.2.0.34\n",
      "Note: you may need to restart the kernel to use updated packages.\n"
     ]
    }
   ],
   "source": [
    "pip install --user opencv-python"
   ]
  },
  {
   "cell_type": "code",
   "execution_count": 6,
   "metadata": {},
   "outputs": [],
   "source": [
    "import cv2\n",
    "\n",
    "img = cv2.imread('Lenna_(test_image).png', cv2.IMREAD_COLOR)\n",
    "img_gray = cv2.imread('Lenna_(test_image).png', cv2.IMREAD_GRAYSCALE)\n",
    "\n",
    "cv2.imshow('bgr', img)\n",
    "cv2.imshow('gray', img_gray)\n",
    "\n",
    "cv2.waitKey(0)              # waits for key\n",
    "cv2.destroyAllWindows()"
   ]
  },
  {
   "cell_type": "code",
   "execution_count": 7,
   "metadata": {},
   "outputs": [],
   "source": [
    "b,g,r = cv2.split(img)\n",
    "cv2.imshow('b', b)\n",
    "cv2.imshow('g', g)\n",
    "cv2.imshow('r', r)\n",
    "\n",
    "cv2.waitKey(0)\n",
    "cv2.destroyAllWindows()"
   ]
  }
 ],
 "metadata": {
  "kernelspec": {
   "display_name": "Python 3",
   "language": "python",
   "name": "python3"
  },
  "language_info": {
   "codemirror_mode": {
    "name": "ipython",
    "version": 3
   },
   "file_extension": ".py",
   "mimetype": "text/x-python",
   "name": "python",
   "nbconvert_exporter": "python",
   "pygments_lexer": "ipython3",
   "version": "3.7.4"
  }
 },
 "nbformat": 4,
 "nbformat_minor": 4
}
